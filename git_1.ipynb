{
 "cells": [
  {
   "cell_type": "markdown",
   "metadata": {},
   "source": [
    "#  Après avoir installer Git bash, Il faut :\n",
    "se rendre sur le terminal de Git bash et configurer ce dernier en fonction des paramétres de connexion a son compte github\n",
    "## "
   ]
  },
  {
   "cell_type": "markdown",
   "metadata": {},
   "source": [
    "# Configurer Git avec son nom et email\n",
    "$ git config --global user.name \"votre nom\"\n",
    "$ git config --global user.email \"votre.email@example.com\"\n",
    "\n",
    "# initialiser un repository pour Git \n",
    "$ git init\n",
    "\n",
    "# verifier le status  du repository \n",
    "$ git status\n",
    "\n",
    "# Add files to staging area\n",
    "$ git add filename\n",
    "\n",
    "# Commit changes\n",
    "$ git commit -m \"Your commit message\"\n",
    "\n",
    "# View commit history\n",
    "$ git log"
   ]
  }
 ],
 "metadata": {
  "kernelspec": {
   "display_name": "geo",
   "language": "python",
   "name": "python3"
  },
  "language_info": {
   "name": "python",
   "version": "3.12.3"
  }
 },
 "nbformat": 4,
 "nbformat_minor": 2
}
